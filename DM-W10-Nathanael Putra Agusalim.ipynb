{
 "cells": [
  {
   "cell_type": "code",
   "execution_count": 20,
   "metadata": {
    "colab": {
     "base_uri": "https://localhost:8080/"
    },
    "id": "JuFb1MP_O5EW",
    "outputId": "17a158d8-8df8-4af8-d8cb-b15b95e590c3"
   },
   "outputs": [
    {
     "name": "stdout",
     "output_type": "stream",
     "text": [
      "Requirement already satisfied: mlxtend in c:\\users\\nathanael p.a\\anaconda3\\lib\\site-packages (0.23.0)\n",
      "Requirement already satisfied: joblib>=0.13.2 in c:\\users\\nathanael p.a\\anaconda3\\lib\\site-packages (from mlxtend) (1.1.0)\n",
      "Requirement already satisfied: pandas>=0.24.2 in c:\\users\\nathanael p.a\\anaconda3\\lib\\site-packages (from mlxtend) (1.4.2)\n",
      "Requirement already satisfied: scikit-learn>=1.0.2 in c:\\users\\nathanael p.a\\anaconda3\\lib\\site-packages (from mlxtend) (1.0.2)\n",
      "Requirement already satisfied: matplotlib>=3.0.0 in c:\\users\\nathanael p.a\\anaconda3\\lib\\site-packages (from mlxtend) (3.5.1)\n",
      "Requirement already satisfied: scipy>=1.2.1 in c:\\users\\nathanael p.a\\anaconda3\\lib\\site-packages (from mlxtend) (1.7.3)\n",
      "Requirement already satisfied: numpy>=1.16.2 in c:\\users\\nathanael p.a\\anaconda3\\lib\\site-packages (from mlxtend) (1.21.5)\n",
      "Requirement already satisfied: pillow>=6.2.0 in c:\\users\\nathanael p.a\\anaconda3\\lib\\site-packages (from matplotlib>=3.0.0->mlxtend) (9.0.1)\n",
      "Requirement already satisfied: packaging>=20.0 in c:\\users\\nathanael p.a\\anaconda3\\lib\\site-packages (from matplotlib>=3.0.0->mlxtend) (21.3)\n",
      "Requirement already satisfied: kiwisolver>=1.0.1 in c:\\users\\nathanael p.a\\anaconda3\\lib\\site-packages (from matplotlib>=3.0.0->mlxtend) (1.3.2)\n",
      "Requirement already satisfied: pyparsing>=2.2.1 in c:\\users\\nathanael p.a\\anaconda3\\lib\\site-packages (from matplotlib>=3.0.0->mlxtend) (3.0.4)\n",
      "Requirement already satisfied: cycler>=0.10 in c:\\users\\nathanael p.a\\anaconda3\\lib\\site-packages (from matplotlib>=3.0.0->mlxtend) (0.11.0)\n",
      "Requirement already satisfied: python-dateutil>=2.7 in c:\\users\\nathanael p.a\\anaconda3\\lib\\site-packages (from matplotlib>=3.0.0->mlxtend) (2.8.2)\n",
      "Requirement already satisfied: fonttools>=4.22.0 in c:\\users\\nathanael p.a\\anaconda3\\lib\\site-packages (from matplotlib>=3.0.0->mlxtend) (4.25.0)\n",
      "Requirement already satisfied: pytz>=2020.1 in c:\\users\\nathanael p.a\\anaconda3\\lib\\site-packages (from pandas>=0.24.2->mlxtend) (2021.3)\n",
      "Requirement already satisfied: six>=1.5 in c:\\users\\nathanael p.a\\anaconda3\\lib\\site-packages (from python-dateutil>=2.7->matplotlib>=3.0.0->mlxtend) (1.16.0)\n",
      "Requirement already satisfied: threadpoolctl>=2.0.0 in c:\\users\\nathanael p.a\\anaconda3\\lib\\site-packages (from scikit-learn>=1.0.2->mlxtend) (2.2.0)\n"
     ]
    }
   ],
   "source": [
    "import pandas as pd\n",
    "import numpy as np\n",
    "from matplotlib import pyplot as plt\n",
    "from mlxtend.frequent_patterns import apriori\n",
    "from mlxtend.frequent_patterns import association_rules\n",
    "from mlxtend.preprocessing import TransactionEncoder\n",
    "\n",
    "! pip install mlxtend"
   ]
  },
  {
   "cell_type": "markdown",
   "metadata": {
    "id": "wDYkmRlZPSXY"
   },
   "source": [
    "# Association Rule for Store Dataset"
   ]
  },
  {
   "cell_type": "markdown",
   "metadata": {
    "id": "IYfOAa9fPjln"
   },
   "source": [
    "In this case study, we will explore how association rule can be used to analyze the items that are usualy purcased together.\n",
    "\n",
    "you can refer to this article to find out about apriori and association rule:\n",
    "https://rasbt.github.io/mlxtend/user_guide/frequent_patterns/apriori/\n",
    "https://rasbt.github.io/mlxtend/user_guide/frequent_patterns/association_rules/"
   ]
  },
  {
   "cell_type": "markdown",
   "metadata": {
    "id": "7EOg6BIYPxt4"
   },
   "source": [
    "## Load Data"
   ]
  },
  {
   "cell_type": "markdown",
   "metadata": {
    "id": "Gp0OZCjrQT1n"
   },
   "source": [
    "We will use the dataset of the transaction in a certain store. You can get the dataset here: \n",
    "https://gist.githubusercontent.com/Harsh-Git-Hub/2979ec48043928ad9033d8469928e751/raw/72de943e040b8bd0d087624b154d41b2ba9d9b60/retail_dataset.csv"
   ]
  },
  {
   "cell_type": "code",
   "execution_count": 21,
   "metadata": {
    "colab": {
     "base_uri": "https://localhost:8080/",
     "height": 204
    },
    "id": "LDF65VBRQjFL",
    "outputId": "e9c6b17c-3450-4b26-af48-e963cc0dd11b"
   },
   "outputs": [
    {
     "data": {
      "text/html": [
       "<div>\n",
       "<style scoped>\n",
       "    .dataframe tbody tr th:only-of-type {\n",
       "        vertical-align: middle;\n",
       "    }\n",
       "\n",
       "    .dataframe tbody tr th {\n",
       "        vertical-align: top;\n",
       "    }\n",
       "\n",
       "    .dataframe thead th {\n",
       "        text-align: right;\n",
       "    }\n",
       "</style>\n",
       "<table border=\"1\" class=\"dataframe\">\n",
       "  <thead>\n",
       "    <tr style=\"text-align: right;\">\n",
       "      <th></th>\n",
       "      <th>0</th>\n",
       "      <th>1</th>\n",
       "      <th>2</th>\n",
       "      <th>3</th>\n",
       "      <th>4</th>\n",
       "      <th>5</th>\n",
       "      <th>6</th>\n",
       "    </tr>\n",
       "  </thead>\n",
       "  <tbody>\n",
       "    <tr>\n",
       "      <th>0</th>\n",
       "      <td>Bread</td>\n",
       "      <td>Wine</td>\n",
       "      <td>Eggs</td>\n",
       "      <td>Meat</td>\n",
       "      <td>Cheese</td>\n",
       "      <td>Pencil</td>\n",
       "      <td>Diaper</td>\n",
       "    </tr>\n",
       "    <tr>\n",
       "      <th>1</th>\n",
       "      <td>Bread</td>\n",
       "      <td>Cheese</td>\n",
       "      <td>Meat</td>\n",
       "      <td>Diaper</td>\n",
       "      <td>Wine</td>\n",
       "      <td>Milk</td>\n",
       "      <td>Pencil</td>\n",
       "    </tr>\n",
       "    <tr>\n",
       "      <th>2</th>\n",
       "      <td>Cheese</td>\n",
       "      <td>Meat</td>\n",
       "      <td>Eggs</td>\n",
       "      <td>Milk</td>\n",
       "      <td>Wine</td>\n",
       "      <td>NaN</td>\n",
       "      <td>NaN</td>\n",
       "    </tr>\n",
       "    <tr>\n",
       "      <th>3</th>\n",
       "      <td>Cheese</td>\n",
       "      <td>Meat</td>\n",
       "      <td>Eggs</td>\n",
       "      <td>Milk</td>\n",
       "      <td>Wine</td>\n",
       "      <td>NaN</td>\n",
       "      <td>NaN</td>\n",
       "    </tr>\n",
       "    <tr>\n",
       "      <th>4</th>\n",
       "      <td>Meat</td>\n",
       "      <td>Pencil</td>\n",
       "      <td>Wine</td>\n",
       "      <td>NaN</td>\n",
       "      <td>NaN</td>\n",
       "      <td>NaN</td>\n",
       "      <td>NaN</td>\n",
       "    </tr>\n",
       "  </tbody>\n",
       "</table>\n",
       "</div>"
      ],
      "text/plain": [
       "        0       1     2       3       4       5       6\n",
       "0   Bread    Wine  Eggs    Meat  Cheese  Pencil  Diaper\n",
       "1   Bread  Cheese  Meat  Diaper    Wine    Milk  Pencil\n",
       "2  Cheese    Meat  Eggs    Milk    Wine     NaN     NaN\n",
       "3  Cheese    Meat  Eggs    Milk    Wine     NaN     NaN\n",
       "4    Meat  Pencil  Wine     NaN     NaN     NaN     NaN"
      ]
     },
     "execution_count": 21,
     "metadata": {},
     "output_type": "execute_result"
    }
   ],
   "source": [
    "# load the data set and show the first five transaction\n",
    "url = \"https://gist.githubusercontent.com/Harsh-Git-Hub/2979ec48043928ad9033d8469928e751/raw/72de943e040b8bd0d087624b154d41b2ba9d9b60/retail_dataset.csv\"\n",
    "df = pd.read_csv(url)\n",
    "df.head(5)"
   ]
  },
  {
   "cell_type": "markdown",
   "metadata": {
    "id": "IkfhUabDQup9"
   },
   "source": [
    "# Get the set of product that has been purchased\n"
   ]
  },
  {
   "cell_type": "markdown",
   "metadata": {},
   "source": [
    "Get the unique product that has been purchased"
   ]
  },
  {
   "cell_type": "code",
   "execution_count": 22,
   "metadata": {
    "colab": {
     "base_uri": "https://localhost:8080/"
    },
    "id": "Awz6VzuMwR_-",
    "outputId": "1fc181b3-cffe-48fe-9d3b-066323061907"
   },
   "outputs": [
    {
     "name": "stdout",
     "output_type": "stream",
     "text": [
      "['Wine', 'Diaper', 'Cheese', 'Meat', 'Bread', 'Bagel', 'Eggs', 'Milk', 'Pencil']\n"
     ]
    }
   ],
   "source": [
    "unique_products = set()\n",
    "\n",
    "for index, row in df.iterrows():\n",
    "    unique_products.update(row.dropna())\n",
    "\n",
    "print(list(unique_products))"
   ]
  },
  {
   "cell_type": "markdown",
   "metadata": {
    "id": "M4g4k83bP07H"
   },
   "source": [
    "## Preprocess Data"
   ]
  },
  {
   "cell_type": "markdown",
   "metadata": {
    "id": "GEnL1bXtRLXe"
   },
   "source": [
    "In this step, we will transform our dataset so that we will have a one hot encoding based on the purchased products."
   ]
  },
  {
   "cell_type": "code",
   "execution_count": 28,
   "metadata": {
    "id": "N4wdVmFWQ_yg"
   },
   "outputs": [],
   "source": [
    "#create an itemset based on the products\n",
    "transactions = df.apply(lambda x: x.dropna().tolist(), axis=1)\n",
    "\n",
    "# encoding the feature\n",
    "te = TransactionEncoder()\n",
    "encoded_transactions = te.fit_transform(transactions)"
   ]
  },
  {
   "cell_type": "code",
   "execution_count": 37,
   "metadata": {
    "colab": {
     "base_uri": "https://localhost:8080/",
     "height": 204
    },
    "id": "v67eBdxByEJX",
    "outputId": "b05c05fb-7ae1-4fbe-a01a-d6985c360f5e"
   },
   "outputs": [
    {
     "data": {
      "text/html": [
       "<div>\n",
       "<style scoped>\n",
       "    .dataframe tbody tr th:only-of-type {\n",
       "        vertical-align: middle;\n",
       "    }\n",
       "\n",
       "    .dataframe tbody tr th {\n",
       "        vertical-align: top;\n",
       "    }\n",
       "\n",
       "    .dataframe thead th {\n",
       "        text-align: right;\n",
       "    }\n",
       "</style>\n",
       "<table border=\"1\" class=\"dataframe\">\n",
       "  <thead>\n",
       "    <tr style=\"text-align: right;\">\n",
       "      <th></th>\n",
       "      <th>Bagel</th>\n",
       "      <th>Bread</th>\n",
       "      <th>Cheese</th>\n",
       "      <th>Diaper</th>\n",
       "      <th>Eggs</th>\n",
       "      <th>Meat</th>\n",
       "      <th>Milk</th>\n",
       "      <th>Pencil</th>\n",
       "      <th>Wine</th>\n",
       "    </tr>\n",
       "  </thead>\n",
       "  <tbody>\n",
       "    <tr>\n",
       "      <th>0</th>\n",
       "      <td>0</td>\n",
       "      <td>1</td>\n",
       "      <td>1</td>\n",
       "      <td>1</td>\n",
       "      <td>1</td>\n",
       "      <td>1</td>\n",
       "      <td>0</td>\n",
       "      <td>1</td>\n",
       "      <td>1</td>\n",
       "    </tr>\n",
       "    <tr>\n",
       "      <th>1</th>\n",
       "      <td>0</td>\n",
       "      <td>1</td>\n",
       "      <td>1</td>\n",
       "      <td>1</td>\n",
       "      <td>0</td>\n",
       "      <td>1</td>\n",
       "      <td>1</td>\n",
       "      <td>1</td>\n",
       "      <td>1</td>\n",
       "    </tr>\n",
       "    <tr>\n",
       "      <th>2</th>\n",
       "      <td>0</td>\n",
       "      <td>0</td>\n",
       "      <td>1</td>\n",
       "      <td>0</td>\n",
       "      <td>1</td>\n",
       "      <td>1</td>\n",
       "      <td>1</td>\n",
       "      <td>0</td>\n",
       "      <td>1</td>\n",
       "    </tr>\n",
       "    <tr>\n",
       "      <th>3</th>\n",
       "      <td>0</td>\n",
       "      <td>0</td>\n",
       "      <td>1</td>\n",
       "      <td>0</td>\n",
       "      <td>1</td>\n",
       "      <td>1</td>\n",
       "      <td>1</td>\n",
       "      <td>0</td>\n",
       "      <td>1</td>\n",
       "    </tr>\n",
       "    <tr>\n",
       "      <th>4</th>\n",
       "      <td>0</td>\n",
       "      <td>0</td>\n",
       "      <td>0</td>\n",
       "      <td>0</td>\n",
       "      <td>0</td>\n",
       "      <td>1</td>\n",
       "      <td>0</td>\n",
       "      <td>1</td>\n",
       "      <td>1</td>\n",
       "    </tr>\n",
       "  </tbody>\n",
       "</table>\n",
       "</div>"
      ],
      "text/plain": [
       "   Bagel  Bread  Cheese  Diaper  Eggs  Meat  Milk  Pencil  Wine\n",
       "0      0      1       1       1     1     1     0       1     1\n",
       "1      0      1       1       1     0     1     1       1     1\n",
       "2      0      0       1       0     1     1     1       0     1\n",
       "3      0      0       1       0     1     1     1       0     1\n",
       "4      0      0       0       0     0     1     0       1     1"
      ]
     },
     "execution_count": 37,
     "metadata": {},
     "output_type": "execute_result"
    }
   ],
   "source": [
    "# create new dataframe from the encoded features\n",
    "df_encoded = pd.DataFrame(encoded_transactions, columns=te.columns_)\n",
    "df_encoded = df_encoded.astype(int)\n",
    "\n",
    "# show the new dataframe\n",
    "df_encoded.head()"
   ]
  },
  {
   "cell_type": "markdown",
   "metadata": {
    "id": "_UXDzSNPP35P"
   },
   "source": [
    "## Apriori Algorithm"
   ]
  },
  {
   "cell_type": "markdown",
   "metadata": {
    "id": "K-jD3ea4TYMV"
   },
   "source": [
    "We will use appriori algorithm to determine the frequently purchased products. \n",
    "For this case study, we will min_support=0.2"
   ]
  },
  {
   "cell_type": "code",
   "execution_count": 42,
   "metadata": {
    "colab": {
     "base_uri": "https://localhost:8080/",
     "height": 1000
    },
    "id": "BLA4Jqhoyjof",
    "outputId": "bc435206-1be2-41e6-b05b-0f1ba125e955"
   },
   "outputs": [
    {
     "name": "stdout",
     "output_type": "stream",
     "text": [
      "Frequent Itemsets:\n",
      "     support              itemsets\n",
      "0   0.425397               (Bagel)\n",
      "1   0.504762               (Bread)\n",
      "2   0.501587              (Cheese)\n",
      "3   0.406349              (Diaper)\n",
      "4   0.438095                (Eggs)\n",
      "5   0.476190                (Meat)\n",
      "6   0.501587                (Milk)\n",
      "7   0.361905              (Pencil)\n",
      "8   0.438095                (Wine)\n",
      "9   0.279365        (Bread, Bagel)\n",
      "10  0.225397         (Milk, Bagel)\n",
      "11  0.238095       (Cheese, Bread)\n",
      "12  0.231746       (Bread, Diaper)\n",
      "13  0.206349         (Meat, Bread)\n",
      "14  0.279365         (Bread, Milk)\n",
      "15  0.200000       (Bread, Pencil)\n",
      "16  0.244444         (Bread, Wine)\n",
      "17  0.200000      (Cheese, Diaper)\n",
      "18  0.298413        (Eggs, Cheese)\n",
      "19  0.323810        (Cheese, Meat)\n",
      "20  0.304762        (Cheese, Milk)\n",
      "21  0.200000      (Cheese, Pencil)\n",
      "22  0.269841        (Cheese, Wine)\n",
      "23  0.234921        (Wine, Diaper)\n",
      "24  0.266667          (Eggs, Meat)\n",
      "25  0.244444          (Eggs, Milk)\n",
      "26  0.241270          (Eggs, Wine)\n",
      "27  0.244444          (Meat, Milk)\n",
      "28  0.250794          (Meat, Wine)\n",
      "29  0.219048          (Milk, Wine)\n",
      "30  0.200000        (Wine, Pencil)\n",
      "31  0.215873  (Eggs, Cheese, Meat)\n",
      "32  0.203175  (Cheese, Meat, Milk)\n"
     ]
    }
   ],
   "source": [
    "frequent_itemsets = apriori(df_encoded, min_support=0.2, use_colnames=True)\n",
    "print(\"Frequent Itemsets:\")\n",
    "print(frequent_itemsets)"
   ]
  },
  {
   "cell_type": "markdown",
   "metadata": {
    "id": "uEr2YXHrVOIA"
   },
   "source": [
    "Then, we will generate association rule of the frequent itemset based on confidence level with the threshold=0.6"
   ]
  },
  {
   "cell_type": "code",
   "execution_count": 44,
   "metadata": {
    "colab": {
     "base_uri": "https://localhost:8080/",
     "height": 482
    },
    "id": "5GalSXOoy6H8",
    "outputId": "2fc5a421-bca1-41c8-f96a-e24f49280d99"
   },
   "outputs": [
    {
     "name": "stdout",
     "output_type": "stream",
     "text": [
      "Association Rules:\n",
      "       antecedents consequents  antecedent support  consequent support  \\\n",
      "0          (Bagel)     (Bread)            0.425397            0.504762   \n",
      "1           (Eggs)    (Cheese)            0.438095            0.501587   \n",
      "2         (Cheese)      (Meat)            0.501587            0.476190   \n",
      "3           (Meat)    (Cheese)            0.476190            0.501587   \n",
      "4         (Cheese)      (Milk)            0.501587            0.501587   \n",
      "5           (Milk)    (Cheese)            0.501587            0.501587   \n",
      "6           (Wine)    (Cheese)            0.438095            0.501587   \n",
      "7           (Eggs)      (Meat)            0.438095            0.476190   \n",
      "8   (Eggs, Cheese)      (Meat)            0.298413            0.476190   \n",
      "9     (Eggs, Meat)    (Cheese)            0.266667            0.501587   \n",
      "10  (Cheese, Meat)      (Eggs)            0.323810            0.438095   \n",
      "11  (Cheese, Meat)      (Milk)            0.323810            0.501587   \n",
      "12  (Cheese, Milk)      (Meat)            0.304762            0.476190   \n",
      "13    (Meat, Milk)    (Cheese)            0.244444            0.501587   \n",
      "\n",
      "     support  confidence      lift  leverage  conviction  zhangs_metric  \n",
      "0   0.279365    0.656716  1.301042  0.064641    1.442650       0.402687  \n",
      "1   0.298413    0.681159  1.358008  0.078670    1.563203       0.469167  \n",
      "2   0.323810    0.645570  1.355696  0.084958    1.477891       0.526414  \n",
      "3   0.323810    0.680000  1.355696  0.084958    1.557540       0.500891  \n",
      "4   0.304762    0.607595  1.211344  0.053172    1.270148       0.350053  \n",
      "5   0.304762    0.607595  1.211344  0.053172    1.270148       0.350053  \n",
      "6   0.269841    0.615942  1.227986  0.050098    1.297754       0.330409  \n",
      "7   0.266667    0.608696  1.278261  0.058050    1.338624       0.387409  \n",
      "8   0.215873    0.723404  1.519149  0.073772    1.893773       0.487091  \n",
      "9   0.215873    0.809524  1.613924  0.082116    2.616667       0.518717  \n",
      "10  0.215873    0.666667  1.521739  0.074014    1.685714       0.507042  \n",
      "11  0.203175    0.627451  1.250931  0.040756    1.337845       0.296655  \n",
      "12  0.203175    0.666667  1.400000  0.058050    1.571429       0.410959  \n",
      "13  0.203175    0.831169  1.657077  0.080564    2.952137       0.524816  \n"
     ]
    }
   ],
   "source": [
    "rules = association_rules(frequent_itemsets, metric=\"confidence\", min_threshold=0.6)\n",
    "print(\"Association Rules:\")\n",
    "print(rules)"
   ]
  },
  {
   "cell_type": "markdown",
   "metadata": {},
   "source": [
    "Provide explanation about __antecedent support__, __consequent support__, __support__, __confidence__, __lift__, __leverage__ and __conviction__"
   ]
  },
  {
   "cell_type": "markdown",
   "metadata": {},
   "source": [
    "1. Antecedent Support\n",
    "\n",
    "Definition: The support of the antecedent itemset.\n",
    "\n",
    "Explanation: It represents the proportion of transactions in the dataset that contain the antecedent itemset.\n",
    "\n",
    "2. Consequent Support\n",
    "\n",
    "Definition: The support of the consequent itemset.\n",
    "\n",
    "Explanation: Similar to antecedent support, it represents the proportion of transactions that contain the consequent itemset.\n",
    "\n",
    "3. Support\n",
    "\n",
    "Definition: The support of the combined antecedent and consequent itemsets.\n",
    "\n",
    "Explanation: It represents the proportion of transactions in the dataset that contain both the antecedent and consequent itemsets.\n",
    "\n",
    "4. Confidence\n",
    "\n",
    "Definition: The conditional probability of the consequent given the antecedent.\n",
    "\n",
    "Explanation: It measures how often the rule has been found to be true. A confidence of 0.6 means that, in 60% of the cases where the antecedent is present, the consequent is also present.\n",
    "\n",
    "5. Lift\n",
    "\n",
    "Definition: The ratio of the observed support to the expected support if the antecedent and consequent were independent.\n",
    "\n",
    "Explanation: Lift indicates how much more likely the consequent is given the antecedent compared to when the two are independent. A lift value greater than 1 suggests that the presence of the antecedent increases the likelihood of the consequent.\n",
    "\n",
    "6. Leverage\n",
    "\n",
    "Definition: The difference between the observed support and the expected support if the antecedent and consequent were independent.\n",
    "\n",
    "Explanation: Leverage measures how much the occurrence of the antecedent and the consequent together differs from what would be expected if they were independent. A positive leverage indicates that the antecedent and consequent co-occur more often than expected.\n",
    "\n",
    "7. Conviction\n",
    "\n",
    "Definition: The ratio of the expected frequency that the antecedent occurs without the consequent to the observed frequency of the antecedent occurring without the consequent.\n",
    "\n",
    "Explanation: Conviction measures the degree of implication by evaluating how often the antecedent occurs without the consequent compared to what we would expect if they were independent. A high conviction value suggests a strong dependency between the antecedent and consequent."
   ]
  }
 ],
 "metadata": {
  "colab": {
   "provenance": []
  },
  "kernelspec": {
   "display_name": "Python 3 (ipykernel)",
   "language": "python",
   "name": "python3"
  },
  "language_info": {
   "codemirror_mode": {
    "name": "ipython",
    "version": 3
   },
   "file_extension": ".py",
   "mimetype": "text/x-python",
   "name": "python",
   "nbconvert_exporter": "python",
   "pygments_lexer": "ipython3",
   "version": "3.9.12"
  }
 },
 "nbformat": 4,
 "nbformat_minor": 4
}
